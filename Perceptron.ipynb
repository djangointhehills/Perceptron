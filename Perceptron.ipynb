{
  "nbformat": 4,
  "nbformat_minor": 0,
  "metadata": {
    "colab": {
      "name": "Perceptron.ipynb",
      "provenance": [],
      "collapsed_sections": [],
      "authorship_tag": "ABX9TyMHmRSN8yMmIjswCggYb+cM",
      "include_colab_link": true
    },
    "kernelspec": {
      "name": "python3",
      "display_name": "Python 3"
    },
    "language_info": {
      "name": "python"
    }
  },
  "cells": [
    {
      "cell_type": "markdown",
      "metadata": {
        "id": "view-in-github",
        "colab_type": "text"
      },
      "source": [
        "<a href=\"https://colab.research.google.com/github/djangointhehills/Perceptron/blob/main/Perceptron.ipynb\" target=\"_parent\"><img src=\"https://colab.research.google.com/assets/colab-badge.svg\" alt=\"Open In Colab\"/></a>"
      ]
    },
    {
      "cell_type": "code",
      "metadata": {
        "id": "PWzxuihR134n"
      },
      "source": [
        "import numpy as np\n",
        "import math\n",
        "import copy"
      ],
      "execution_count": 1,
      "outputs": []
    },
    {
      "cell_type": "code",
      "metadata": {
        "id": "h3kMoO672bun"
      },
      "source": [
        "def sigmoid(x):\n",
        "  return 1 / (1 + math.exp(-x))"
      ],
      "execution_count": 2,
      "outputs": []
    },
    {
      "cell_type": "code",
      "metadata": {
        "id": "cYSpXL8R120w"
      },
      "source": [
        "class Perceptron:\n",
        "    def __init__(self, learning_rate, activation_f):\n",
        "        self.weights = []\n",
        "        self.activation_f = activation_f\n",
        "        self.learning_rate = learning_rate\n",
        "\n",
        "    def update_weights(self, x, y_hat, y):\n",
        "        for i in range(len(self.weights)):\n",
        "            self.weights[i] = self.weights[i] + self.learning_rate * (y - y_hat) * x[i]\n",
        "\n",
        "    def train(self, X, Y):\n",
        "        # Initialise number of weights and add bias.\n",
        "        self.weights = [0] * len(X[0])\n",
        "        self.weights.append(0)\n",
        "\n",
        "        epochs = 0\n",
        "        train = True\n",
        "        while train and epochs < 10:\n",
        "          epochs += 1\n",
        "          train = False\n",
        "\n",
        "          # Train over all the X data instances.\n",
        "          for i in range(len(X)):\n",
        "              instance = copy.deepcopy(X[i])\n",
        "              instance.insert(0, 1)\n",
        "              y_hat = self.activation_f(np.dot(self.weights, instance))\n",
        "              if y_hat != Y[i]:\n",
        "                  train = True\n",
        "                  self.update_weights(instance, y_hat, Y[i])\n",
        "        print('Training complete!')\n",
        "\n",
        "    def predict(self, X):\n",
        "        predictions = []\n",
        "        for x in X:\n",
        "          instance = x\n",
        "          instance.insert(0,1)\n",
        "          pred = self.activation_f(np.dot(self.weights, instance))\n",
        "          predictions.append(pred)\n",
        "        return predictions"
      ],
      "execution_count": 3,
      "outputs": []
    },
    {
      "cell_type": "code",
      "metadata": {
        "id": "3FdWSIvx155o"
      },
      "source": [
        "model = Perceptron(.3, sigmoid)"
      ],
      "execution_count": 4,
      "outputs": []
    },
    {
      "cell_type": "code",
      "metadata": {
        "id": "U5Aw8cFD2_so"
      },
      "source": [
        "X = [[1,2,3,4],\n",
        " [3,2,4,4],\n",
        " [1,2,12,3]]\n",
        "\n",
        "Y = [0,0,1]\n",
        "\n"
      ],
      "execution_count": 5,
      "outputs": []
    },
    {
      "cell_type": "code",
      "metadata": {
        "colab": {
          "base_uri": "https://localhost:8080/"
        },
        "id": "dhmwXFBE9QX2",
        "outputId": "0a81959b-c4e4-4c12-e561-7430c1056648"
      },
      "source": [
        "np.dot([1,2],[3,4])"
      ],
      "execution_count": 6,
      "outputs": [
        {
          "output_type": "execute_result",
          "data": {
            "text/plain": [
              "11"
            ]
          },
          "metadata": {},
          "execution_count": 6
        }
      ]
    },
    {
      "cell_type": "code",
      "metadata": {
        "colab": {
          "base_uri": "https://localhost:8080/"
        },
        "id": "R3lEcaue29uo",
        "outputId": "02e7946c-960a-4aed-b7fb-a4b5879dbd5b"
      },
      "source": [
        "model.train(X,Y)"
      ],
      "execution_count": 7,
      "outputs": [
        {
          "output_type": "stream",
          "text": [
            "Training complete!\n"
          ],
          "name": "stdout"
        }
      ]
    },
    {
      "cell_type": "code",
      "metadata": {
        "id": "IOm1Jc5T6Jme"
      },
      "source": [
        "predictions = model.predict(X)"
      ],
      "execution_count": 8,
      "outputs": []
    },
    {
      "cell_type": "code",
      "metadata": {
        "id": "bdVwGnrG8HpJ",
        "colab": {
          "base_uri": "https://localhost:8080/"
        },
        "outputId": "a312d4e9-5bd7-43b9-fb12-c5624f138bbd"
      },
      "source": [
        "print(predictions)"
      ],
      "execution_count": 9,
      "outputs": [
        {
          "output_type": "stream",
          "text": [
            "[0.0006024306711822066, 0.0002846986661957373, 0.9981355218907151]\n"
          ],
          "name": "stdout"
        }
      ]
    }
  ]
}