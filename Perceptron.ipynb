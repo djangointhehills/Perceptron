{
  "nbformat": 4,
  "nbformat_minor": 0,
  "metadata": {
    "colab": {
      "name": "Perceptron.ipynb",
      "provenance": [],
      "collapsed_sections": [],
      "authorship_tag": "ABX9TyO0tS17yRDoqxbQfZWCWoD+",
      "include_colab_link": true
    },
    "kernelspec": {
      "name": "python3",
      "display_name": "Python 3"
    },
    "language_info": {
      "name": "python"
    }
  },
  "cells": [
    {
      "cell_type": "markdown",
      "metadata": {
        "id": "view-in-github",
        "colab_type": "text"
      },
      "source": [
        "<a href=\"https://colab.research.google.com/github/djangointhehills/Perceptron/blob/main/Perceptron.ipynb\" target=\"_parent\"><img src=\"https://colab.research.google.com/assets/colab-badge.svg\" alt=\"Open In Colab\"/></a>"
      ]
    },
    {
      "cell_type": "markdown",
      "metadata": {
        "id": "MOGgP-9tfXFg"
      },
      "source": [
        "# Imports"
      ]
    },
    {
      "cell_type": "code",
      "metadata": {
        "id": "PWzxuihR134n"
      },
      "source": [
        "import numpy as np\n",
        "import math\n",
        "import copy\n",
        "from sklearn import datasets\n",
        "from sklearn.model_selection import train_test_split\n",
        "from sklearn.linear_model import Perceptron"
      ],
      "execution_count": 122,
      "outputs": []
    },
    {
      "cell_type": "markdown",
      "metadata": {
        "id": "F9VgnpHefan3"
      },
      "source": [
        "# Perceptron"
      ]
    },
    {
      "cell_type": "code",
      "metadata": {
        "id": "h3kMoO672bun"
      },
      "source": [
        "def sigmoid(x):\n",
        "  return 1 / (1 + math.exp(-x))"
      ],
      "execution_count": 11,
      "outputs": []
    },
    {
      "cell_type": "code",
      "metadata": {
        "id": "cYSpXL8R120w"
      },
      "source": [
        "class Perceptron_Unit:\n",
        "    def __init__(self, learning_rate, activation_f, max_iterations, weights):\n",
        "        self.weights = [0] * weights\n",
        "        self.activation_f = activation_f\n",
        "        self.learning_rate = learning_rate\n",
        "        self.max_iterations = max_iterations\n",
        "\n",
        "    def update_weights(self, x, y_hat, y):\n",
        "        for i in range(len(self.weights)):\n",
        "            self.weights[i] += self.learning_rate * (y - y_hat) * x[i]\n",
        "\n",
        "    def train(self, X, Y):\n",
        "        # Apend 1 at beginning of each instacne of accomodate bias.\n",
        "        X = np.c_[ np.ones(len(X)),X] \n",
        "\n",
        "        # Initialise number of weights and add bias.\n",
        "        \n",
        "\n",
        "        epochs = 0\n",
        "        train = True\n",
        "        while train and epochs < self.max_iterations:\n",
        "          epochs += 1\n",
        "          train = False\n",
        "\n",
        "          # Train over all the X data instances.\n",
        "          for i in range(len(X)):\n",
        "              y_hat = self.activation_f(np.dot(self.weights, X[i]))\n",
        "              if y_hat != Y[i]:\n",
        "                  train = True\n",
        "                  self.update_weights(X[i], y_hat, Y[i])\n",
        "        print('Training complete!')\n",
        "\n",
        "    def update(self, x,y):\n",
        "        pred = self.activation_f(np.dot(self.weights, x))\n",
        "        if pred != y:\n",
        "          self.update_weights(x, pred, y)\n",
        "\n",
        "    def predict(self, x):\n",
        "\n",
        "        prediction = self.activation_f(np.dot(self.weights, x))\n",
        "        return prediction\n",
        "    \n",
        "    def get_acuracy(self, preds,y):\n",
        "        no_correct = 0\n",
        "        for i in range(len(preds)):\n",
        "          if preds[i] == y[i]:\n",
        "            no_correct += 1\n",
        "        accuracy = no_correct / len(preds)\n",
        "        return accuracy\n",
        "\n",
        "    def predict_score(self, X,Y):\n",
        "        predictions = self.predict(X)\n",
        "        accuracy = self.get_acuracy(predictions,Y)\n",
        "        print(\"Accuracy =\", accuracy)\n",
        "    \n",
        "    def get_weights(self):\n",
        "      return self.weights\n",
        "\n"
      ],
      "execution_count": 189,
      "outputs": []
    },
    {
      "cell_type": "code",
      "metadata": {
        "id": "kMM2RZn06yXr"
      },
      "source": [
        "class Perceptron:\n",
        "  def __init__(self, learning_rate, activation_f, max_iterations):\n",
        "    self.perceptrons = {}\n",
        "    self.activation_f = activation_f\n",
        "    self.learning_rate = learning_rate\n",
        "    self.max_iterations = max_iterations\n",
        "\n",
        "  def train(self, X, Y):\n",
        "    # Get the number of weights needed.\n",
        "    num_weights = 1 + len(X[0])\n",
        "\n",
        "    # Create perceptron for each label.\n",
        "    labels = np.unique(Y)\n",
        "    if len(labels) < 3:\n",
        "      self.perceptrons[labels[0]] = Perceptron_Unit(self.learning_rate, self.activation_f, self.max_iterations, num_weights)\n",
        "    else:\n",
        "      for label in labels:\n",
        "        self.perceptrons[label] = Perceptron_Unit(self.learning_rate, self.activation_f, self.max_iterations, num_weights)\n",
        "\n",
        "    for i in range(len(X)):\n",
        "      # Add bias term\n",
        "      instance = np.insert(X[i], 0, 1)\n",
        "\n",
        "      prediction = (-math.inf, None)\n",
        "\n",
        "      # Get max probability label.\n",
        "      for label in self.perceptrons: \n",
        "        prob = self.perceptrons[label].predict(instance)\n",
        "        if Y[i] == label:\n",
        "          \n",
        "            if prob > prediction[0]:\n",
        "              prediction = (prob, label)\n",
        "        else:\n",
        "          if prob > prediction[0]:\n",
        "            prediction = (prob, label)\n",
        " \n",
        "      \n",
        "      # Check if prediction was correct. If not, update.\n",
        "      if prediction[1] != Y[i]:\n",
        "        for label in self.perceptrons:\n",
        "          if Y[i] == label:\n",
        "            self.perceptrons[label].update(instance, 1)\n",
        "          else:\n",
        "            self.perceptrons[label].update(instance, 0)\n",
        "\n",
        "  \n",
        "  def get_weights(self,):\n",
        "    weights = {}\n",
        "    for unit in self.perceptrons:\n",
        "      weights[unit] = self.perceptrons[unit].get_weights()\n",
        "    \n",
        "    return weights\n",
        "    \n",
        "    # predict(self, X):\n",
        "\n",
        "      \n",
        "\n",
        "        \n",
        "\n",
        "\n",
        "\n",
        "\n",
        "  \n"
      ],
      "execution_count": 247,
      "outputs": []
    },
    {
      "cell_type": "code",
      "metadata": {
        "id": "wqlE197_MbhQ"
      },
      "source": [
        "model = Perceptron(.3, sigmoid, 10)"
      ],
      "execution_count": 248,
      "outputs": []
    },
    {
      "cell_type": "code",
      "metadata": {
        "id": "WRehSbDPMi1M"
      },
      "source": [
        "model.train(X_train, y_train)"
      ],
      "execution_count": 249,
      "outputs": []
    },
    {
      "cell_type": "code",
      "metadata": {
        "colab": {
          "base_uri": "https://localhost:8080/"
        },
        "id": "w1GGiRPLNqOg",
        "outputId": "1f79d52e-d589-4aae-f50b-f38298b74b5a"
      },
      "source": [
        "model.get_weights()"
      ],
      "execution_count": 250,
      "outputs": [
        {
          "output_type": "execute_result",
          "data": {
            "text/plain": [
              "{0: [0.34230571220578593,\n",
              "  0.3905751209542286,\n",
              "  1.7252023905350347,\n",
              "  -2.9446702153800026,\n",
              "  -1.2263763748915084],\n",
              " 1: [0.3879711174378214,\n",
              "  0.040199837906757185,\n",
              "  -0.8587854860684593,\n",
              "  -2.4012087928785064,\n",
              "  -2.312060407445914],\n",
              " 2: [-0.9431122710662532,\n",
              "  -1.532187090584522,\n",
              "  -1.9441822016194301,\n",
              "  5.004791505097575,\n",
              "  3.3189281337984533]}"
            ]
          },
          "metadata": {},
          "execution_count": 250
        }
      ]
    },
    {
      "cell_type": "markdown",
      "metadata": {
        "id": "L1kGC-aJfdhK"
      },
      "source": [
        "# Test"
      ]
    },
    {
      "cell_type": "code",
      "metadata": {
        "id": "3FdWSIvx155o"
      },
      "source": [
        "model = Perceptron(.3, sigmoid)"
      ],
      "execution_count": 51,
      "outputs": []
    },
    {
      "cell_type": "code",
      "metadata": {
        "id": "U5Aw8cFD2_so"
      },
      "source": [
        "X = [[1,2,3,4],\n",
        " [3,2,4,4],\n",
        " [1,2,12,3]]\n",
        "\n",
        "Y = [0,0,1]\n",
        "\n"
      ],
      "execution_count": 52,
      "outputs": []
    },
    {
      "cell_type": "code",
      "metadata": {
        "colab": {
          "base_uri": "https://localhost:8080/"
        },
        "id": "R3lEcaue29uo",
        "outputId": "f4a67beb-46c2-4cd0-e630-d5345c1a7818"
      },
      "source": [
        "model.train(X,Y)"
      ],
      "execution_count": 64,
      "outputs": [
        {
          "output_type": "stream",
          "text": [
            "Training complete!\n"
          ],
          "name": "stdout"
        }
      ]
    },
    {
      "cell_type": "code",
      "metadata": {
        "id": "IOm1Jc5T6Jme"
      },
      "source": [
        "predictions = model.predict(X)"
      ],
      "execution_count": 17,
      "outputs": []
    },
    {
      "cell_type": "code",
      "metadata": {
        "id": "bdVwGnrG8HpJ",
        "colab": {
          "base_uri": "https://localhost:8080/"
        },
        "outputId": "52d46fe9-3e0e-4beb-bd95-6c1175bcf851"
      },
      "source": [
        "print(predictions)"
      ],
      "execution_count": 18,
      "outputs": [
        {
          "output_type": "stream",
          "text": [
            "[0.0006024306711822066, 0.0002846986661957373, 0.9981355218907151]\n"
          ],
          "name": "stdout"
        }
      ]
    },
    {
      "cell_type": "markdown",
      "metadata": {
        "id": "vF_j8j4uesjz"
      },
      "source": [
        "# Experiementation with Iris Data Set"
      ]
    },
    {
      "cell_type": "markdown",
      "metadata": {
        "id": "Ixp75ppkw_xi"
      },
      "source": [
        "## Load Data"
      ]
    },
    {
      "cell_type": "code",
      "metadata": {
        "id": "RZxBJk8bex2j"
      },
      "source": [
        "iris = datasets.load_iris()"
      ],
      "execution_count": 20,
      "outputs": []
    },
    {
      "cell_type": "code",
      "metadata": {
        "id": "GIwZqvRWfmel"
      },
      "source": [
        "x_data = iris['data']\n",
        "y_data = iris['target']"
      ],
      "execution_count": 25,
      "outputs": []
    },
    {
      "cell_type": "code",
      "metadata": {
        "colab": {
          "base_uri": "https://localhost:8080/"
        },
        "id": "hDWf2WMUypGo",
        "outputId": "3fb0347c-f87a-4464-e00e-80a78f639ee7"
      },
      "source": [
        "x_data.shape"
      ],
      "execution_count": 121,
      "outputs": [
        {
          "output_type": "execute_result",
          "data": {
            "text/plain": [
              "(150, 4)"
            ]
          },
          "metadata": {},
          "execution_count": 121
        }
      ]
    },
    {
      "cell_type": "code",
      "metadata": {
        "id": "tgSS1QQSf8iK"
      },
      "source": [
        "X_train, X_test, y_train, y_test = train_test_split(x_data, y_data, test_size=0.33, random_state=42)"
      ],
      "execution_count": 28,
      "outputs": []
    },
    {
      "cell_type": "markdown",
      "metadata": {
        "id": "HhjLrY-xxEzN"
      },
      "source": [
        "## Create Model"
      ]
    },
    {
      "cell_type": "code",
      "metadata": {
        "id": "ayj0Eeq0gb0J"
      },
      "source": [
        "model = Perceptron(.1, sigmoid, classifier=True)"
      ],
      "execution_count": 111,
      "outputs": []
    },
    {
      "cell_type": "code",
      "metadata": {
        "colab": {
          "base_uri": "https://localhost:8080/"
        },
        "id": "LaUJOc1AgiVF",
        "outputId": "6cf46a4e-0a9a-488e-b7ed-c9f62a161837"
      },
      "source": [
        "model.train(X_train, y_train)"
      ],
      "execution_count": 130,
      "outputs": [
        {
          "output_type": "stream",
          "text": [
            "Training complete!\n"
          ],
          "name": "stdout"
        }
      ]
    },
    {
      "cell_type": "code",
      "metadata": {
        "colab": {
          "base_uri": "https://localhost:8080/"
        },
        "id": "uOQzbPkXmfBE",
        "outputId": "686c44d8-d782-4ee2-f558-0ccaa5157b56"
      },
      "source": [
        "model.predict_score(X_test, y_test)"
      ],
      "execution_count": 131,
      "outputs": [
        {
          "output_type": "stream",
          "text": [
            "Accuracy = 0.3\n"
          ],
          "name": "stdout"
        }
      ]
    },
    {
      "cell_type": "code",
      "metadata": {
        "colab": {
          "base_uri": "https://localhost:8080/"
        },
        "id": "nP3lLluM2jVw",
        "outputId": "7c720b01-93ad-468e-aee5-beb2d58b59c9"
      },
      "source": [
        "predictions = model.predict(X_test)\n",
        "print(predictions)"
      ],
      "execution_count": 133,
      "outputs": [
        {
          "output_type": "stream",
          "text": [
            "[1, 1, 1, 1, 1, 1, 1, 1, 1, 1, 1, 1, 1, 1, 1, 1, 1, 1, 1, 1, 1, 1, 1, 1, 1, 1, 1, 1, 1, 1, 1, 1, 1, 1, 1, 1, 1, 1, 1, 1, 1, 1, 1, 1, 1, 1, 1, 1, 1, 1]\n"
          ],
          "name": "stdout"
        }
      ]
    },
    {
      "cell_type": "code",
      "metadata": {
        "colab": {
          "base_uri": "https://localhost:8080/"
        },
        "id": "pN8opd8-v6YN",
        "outputId": "cacf9b76-b059-478f-ccfb-8e33a1dfd233"
      },
      "source": [
        "weights = model.get_weights()\n",
        "weights"
      ],
      "execution_count": 119,
      "outputs": [
        {
          "output_type": "execute_result",
          "data": {
            "text/plain": [
              "array([-0.19080644, -0.44389125, -0.38161288,  0.66930572, -0.91525548])"
            ]
          },
          "metadata": {},
          "execution_count": 119
        }
      ]
    },
    {
      "cell_type": "markdown",
      "metadata": {
        "id": "jGGVIB2y0Hzt"
      },
      "source": [
        "# Compare with Sklearn Percetron"
      ]
    },
    {
      "cell_type": "code",
      "metadata": {
        "id": "RDOL16us0Uy9"
      },
      "source": [
        "sk_model = Perceptron()"
      ],
      "execution_count": 123,
      "outputs": []
    },
    {
      "cell_type": "code",
      "metadata": {
        "colab": {
          "base_uri": "https://localhost:8080/"
        },
        "id": "cPmaHO5l1KSW",
        "outputId": "ed3905b4-89d0-4cf5-bf10-64f1eb8056c4"
      },
      "source": [
        "sk_model.fit(X_train, y_train)"
      ],
      "execution_count": 126,
      "outputs": [
        {
          "output_type": "execute_result",
          "data": {
            "text/plain": [
              "Perceptron(alpha=0.0001, class_weight=None, early_stopping=False, eta0=1.0,\n",
              "           fit_intercept=True, max_iter=1000, n_iter_no_change=5, n_jobs=None,\n",
              "           penalty=None, random_state=0, shuffle=True, tol=0.001,\n",
              "           validation_fraction=0.1, verbose=0, warm_start=False)"
            ]
          },
          "metadata": {},
          "execution_count": 126
        }
      ]
    },
    {
      "cell_type": "code",
      "metadata": {
        "colab": {
          "base_uri": "https://localhost:8080/"
        },
        "id": "s_NLSCm41YOb",
        "outputId": "89c1766d-f33c-48d6-9a82-08aebed9f14c"
      },
      "source": [
        "sk_model.score(X_test, y_test)"
      ],
      "execution_count": 127,
      "outputs": [
        {
          "output_type": "execute_result",
          "data": {
            "text/plain": [
              "0.72"
            ]
          },
          "metadata": {},
          "execution_count": 127
        }
      ]
    },
    {
      "cell_type": "code",
      "metadata": {
        "colab": {
          "base_uri": "https://localhost:8080/"
        },
        "id": "FKd663GU1hSL",
        "outputId": "65cd0282-040f-4f3e-a281-6c6bf4d84357"
      },
      "source": [
        "sk_predictions = sk_model.predict(X_test)\n",
        "print(sk_predictions)"
      ],
      "execution_count": 129,
      "outputs": [
        {
          "output_type": "stream",
          "text": [
            "[0 0 2 0 1 0 0 2 2 0 2 0 0 0 0 0 2 0 2 2 0 2 0 2 2 2 2 2 0 0 0 0 0 0 0 2 0\n",
            " 0 0 0 2 0 0 0 0 0 2 2 0 2]\n"
          ],
          "name": "stdout"
        }
      ]
    }
  ]
}