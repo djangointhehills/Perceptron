{
  "nbformat": 4,
  "nbformat_minor": 0,
  "metadata": {
    "colab": {
      "name": "Perceptron.ipynb",
      "provenance": [],
      "collapsed_sections": [],
      "authorship_tag": "ABX9TyMGfzRsdn8yTDC5k1Edie2h",
      "include_colab_link": true
    },
    "kernelspec": {
      "name": "python3",
      "display_name": "Python 3"
    },
    "language_info": {
      "name": "python"
    }
  },
  "cells": [
    {
      "cell_type": "markdown",
      "metadata": {
        "id": "view-in-github",
        "colab_type": "text"
      },
      "source": [
        "<a href=\"https://colab.research.google.com/github/djangointhehills/Perceptron/blob/main/Perceptron.ipynb\" target=\"_parent\"><img src=\"https://colab.research.google.com/assets/colab-badge.svg\" alt=\"Open In Colab\"/></a>"
      ]
    },
    {
      "cell_type": "markdown",
      "metadata": {
        "id": "MOGgP-9tfXFg"
      },
      "source": [
        "# Imports"
      ]
    },
    {
      "cell_type": "code",
      "metadata": {
        "id": "PWzxuihR134n"
      },
      "source": [
        "import numpy as np\n",
        "import math\n",
        "import copy\n",
        "from sklearn import datasets\n",
        "from sklearn.model_selection import train_test_split"
      ],
      "execution_count": 27,
      "outputs": []
    },
    {
      "cell_type": "markdown",
      "metadata": {
        "id": "F9VgnpHefan3"
      },
      "source": [
        "# Perceptron"
      ]
    },
    {
      "cell_type": "code",
      "metadata": {
        "id": "h3kMoO672bun"
      },
      "source": [
        "def sigmoid(x):\n",
        "  return 1 / (1 + math.exp(-x))"
      ],
      "execution_count": 11,
      "outputs": []
    },
    {
      "cell_type": "code",
      "metadata": {
        "id": "cYSpXL8R120w"
      },
      "source": [
        "class Perceptron:\n",
        "    def __init__(self, learning_rate, activation_f, classifier, max_iterations):\n",
        "        self.weights = []\n",
        "        self.activation_f = activation_f\n",
        "        self.learning_rate = learning_rate\n",
        "        self.classfication = classifier\n",
        "        self.max_iterations = max_iterations\n",
        "\n",
        "    def update_weights(self, x, y_hat, y):\n",
        "        for i in range(len(self.weights)):\n",
        "            self.weights[i] += self.learning_rate * (y - y_hat) * x[i]\n",
        "\n",
        "    def train(self, X, Y):\n",
        "        # Apend 1 at beginning of each instacne of accomodate bias.\n",
        "        X = np.c_[ np.ones(len(X)),X] \n",
        "\n",
        "        # Initialise number of weights and add bias.\n",
        "        self.weights = np.zeros(len(X[0]))\n",
        "\n",
        "        epochs = 0\n",
        "        train = True\n",
        "        while train and epochs < self.max_iterations:\n",
        "          epochs += 1\n",
        "          train = False\n",
        "\n",
        "          # Train over all the X data instances.\n",
        "          for i in range(len(X)):\n",
        "              y_hat = self.activation_f(np.dot(self.weights, X[i]))\n",
        "              if y_hat != Y[i]:\n",
        "                  train = True\n",
        "                  self.update_weights(X[i], y_hat, Y[i])\n",
        "        print('Training complete!')\n",
        "\n",
        "    def predict(self, X):\n",
        "        predictions = []\n",
        "\n",
        "        # Add one for bias term.\n",
        "        X = np.c_[ np.ones(len(X)),X]\n",
        "\n",
        "        for x in X:\n",
        "          pred = self.activation_f(np.dot(self.weights, x))\n",
        "          if self.classfication:\n",
        "            pred = round(pred)\n",
        "          predictions.append(pred)\n",
        "        return predictions\n",
        "    \n",
        "    def get_acuracy(self, preds,y):\n",
        "        no_correct = 0\n",
        "        for i in range(len(preds)):\n",
        "          if preds[i] == y[i]:\n",
        "            no_correct += 1\n",
        "        accuracy = no_correct / len(preds)\n",
        "        return accuracy\n",
        "\n",
        "    def predict_score(self, X,Y):\n",
        "        predictions = self.predict(X)\n",
        "        accuracy = self.get_acuracy(predictions,Y)\n",
        "        print(\"Accuracy =\", accuracy)\n",
        "    \n",
        "    def get_weights(self):\n",
        "      return self.weights\n",
        "\n"
      ],
      "execution_count": 110,
      "outputs": []
    },
    {
      "cell_type": "markdown",
      "metadata": {
        "id": "L1kGC-aJfdhK"
      },
      "source": [
        "# Test"
      ]
    },
    {
      "cell_type": "code",
      "metadata": {
        "id": "3FdWSIvx155o"
      },
      "source": [
        "model = Perceptron(.3, sigmoid)"
      ],
      "execution_count": 51,
      "outputs": []
    },
    {
      "cell_type": "code",
      "metadata": {
        "id": "U5Aw8cFD2_so"
      },
      "source": [
        "X = [[1,2,3,4],\n",
        " [3,2,4,4],\n",
        " [1,2,12,3]]\n",
        "\n",
        "Y = [0,0,1]\n",
        "\n"
      ],
      "execution_count": 52,
      "outputs": []
    },
    {
      "cell_type": "code",
      "metadata": {
        "colab": {
          "base_uri": "https://localhost:8080/"
        },
        "id": "R3lEcaue29uo",
        "outputId": "f4a67beb-46c2-4cd0-e630-d5345c1a7818"
      },
      "source": [
        "model.train(X,Y)"
      ],
      "execution_count": 64,
      "outputs": [
        {
          "output_type": "stream",
          "text": [
            "Training complete!\n"
          ],
          "name": "stdout"
        }
      ]
    },
    {
      "cell_type": "code",
      "metadata": {
        "id": "IOm1Jc5T6Jme"
      },
      "source": [
        "predictions = model.predict(X)"
      ],
      "execution_count": 17,
      "outputs": []
    },
    {
      "cell_type": "code",
      "metadata": {
        "id": "bdVwGnrG8HpJ",
        "colab": {
          "base_uri": "https://localhost:8080/"
        },
        "outputId": "52d46fe9-3e0e-4beb-bd95-6c1175bcf851"
      },
      "source": [
        "print(predictions)"
      ],
      "execution_count": 18,
      "outputs": [
        {
          "output_type": "stream",
          "text": [
            "[0.0006024306711822066, 0.0002846986661957373, 0.9981355218907151]\n"
          ],
          "name": "stdout"
        }
      ]
    },
    {
      "cell_type": "markdown",
      "metadata": {
        "id": "vF_j8j4uesjz"
      },
      "source": [
        "# Experiementation with Iris Data Set"
      ]
    },
    {
      "cell_type": "markdown",
      "metadata": {
        "id": "Ixp75ppkw_xi"
      },
      "source": [
        "## Load Data"
      ]
    },
    {
      "cell_type": "code",
      "metadata": {
        "id": "RZxBJk8bex2j"
      },
      "source": [
        "iris = datasets.load_iris()"
      ],
      "execution_count": 20,
      "outputs": []
    },
    {
      "cell_type": "code",
      "metadata": {
        "id": "GIwZqvRWfmel"
      },
      "source": [
        "x_data = iris['data']\n",
        "y_data = iris['target']"
      ],
      "execution_count": 25,
      "outputs": []
    },
    {
      "cell_type": "code",
      "metadata": {
        "id": "tgSS1QQSf8iK"
      },
      "source": [
        "X_train, X_test, y_train, y_test = train_test_split(x_data, y_data, test_size=0.33, random_state=42)"
      ],
      "execution_count": 28,
      "outputs": []
    },
    {
      "cell_type": "markdown",
      "metadata": {
        "id": "HhjLrY-xxEzN"
      },
      "source": [
        "## Create Model"
      ]
    },
    {
      "cell_type": "code",
      "metadata": {
        "id": "ayj0Eeq0gb0J"
      },
      "source": [
        "model = Perceptron(.1, sigmoid, classifier=True)"
      ],
      "execution_count": 111,
      "outputs": []
    },
    {
      "cell_type": "code",
      "metadata": {
        "colab": {
          "base_uri": "https://localhost:8080/"
        },
        "id": "LaUJOc1AgiVF",
        "outputId": "bc11eb78-cf88-427d-ca8f-d47aa9440aa0"
      },
      "source": [
        "model.train(np.array(X), np.array(Y))"
      ],
      "execution_count": 112,
      "outputs": [
        {
          "output_type": "stream",
          "text": [
            "Training complete!\n"
          ],
          "name": "stdout"
        }
      ]
    },
    {
      "cell_type": "code",
      "metadata": {
        "colab": {
          "base_uri": "https://localhost:8080/"
        },
        "id": "uOQzbPkXmfBE",
        "outputId": "0bbbfa43-e061-425f-849f-947e7c017512"
      },
      "source": [
        "model.predict_score(X, Y)"
      ],
      "execution_count": 113,
      "outputs": [
        {
          "output_type": "stream",
          "text": [
            "Accuracy = 1.0\n"
          ],
          "name": "stdout"
        }
      ]
    },
    {
      "cell_type": "code",
      "metadata": {
        "colab": {
          "base_uri": "https://localhost:8080/"
        },
        "id": "pN8opd8-v6YN",
        "outputId": "cacf9b76-b059-478f-ccfb-8e33a1dfd233"
      },
      "source": [
        "weights = model.get_weights()\n",
        "weights"
      ],
      "execution_count": 119,
      "outputs": [
        {
          "output_type": "execute_result",
          "data": {
            "text/plain": [
              "array([-0.19080644, -0.44389125, -0.38161288,  0.66930572, -0.91525548])"
            ]
          },
          "metadata": {},
          "execution_count": 119
        }
      ]
    }
  ]
}