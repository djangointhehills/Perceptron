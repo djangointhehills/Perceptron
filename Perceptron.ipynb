{
  "nbformat": 4,
  "nbformat_minor": 0,
  "metadata": {
    "colab": {
      "name": "Perceptron.ipynb",
      "provenance": [],
      "collapsed_sections": [],
      "authorship_tag": "ABX9TyML5Jm/6zThYDcIkWzAHIr0",
      "include_colab_link": true
    },
    "kernelspec": {
      "name": "python3",
      "display_name": "Python 3"
    },
    "language_info": {
      "name": "python"
    }
  },
  "cells": [
    {
      "cell_type": "markdown",
      "metadata": {
        "id": "view-in-github",
        "colab_type": "text"
      },
      "source": [
        "<a href=\"https://colab.research.google.com/github/djangointhehills/Perceptron/blob/main/Perceptron.ipynb\" target=\"_parent\"><img src=\"https://colab.research.google.com/assets/colab-badge.svg\" alt=\"Open In Colab\"/></a>"
      ]
    },
    {
      "cell_type": "markdown",
      "metadata": {
        "id": "MOGgP-9tfXFg"
      },
      "source": [
        "# Imports"
      ]
    },
    {
      "cell_type": "code",
      "metadata": {
        "id": "PWzxuihR134n"
      },
      "source": [
        "import numpy as np\n",
        "import math\n",
        "import copy\n",
        "from sklearn import datasets\n",
        "from sklearn.model_selection import train_test_split\n",
        "from sklearn.linear_model import Perceptron as sklearn_Perceptron\n",
        "import matplotlib.pyplot as plt\n",
        "from sklearn.metrics import plot_confusion_matrix"
      ],
      "execution_count": 1,
      "outputs": []
    },
    {
      "cell_type": "markdown",
      "metadata": {
        "id": "ohR5a6ssob92"
      },
      "source": [
        "# Activations"
      ]
    },
    {
      "cell_type": "code",
      "metadata": {
        "id": "lXADyf-wrIF3"
      },
      "source": [
        "def bad(x):\n",
        "    return 1"
      ],
      "execution_count": 2,
      "outputs": []
    },
    {
      "cell_type": "code",
      "metadata": {
        "id": "IqkETdrNof2l"
      },
      "source": [
        "def step_function(x):\n",
        "    if x < 0:\n",
        "      return -1\n",
        "    else:\n",
        "      return 1"
      ],
      "execution_count": 3,
      "outputs": []
    },
    {
      "cell_type": "code",
      "metadata": {
        "id": "h3kMoO672bun"
      },
      "source": [
        "def sigmoid(x):\n",
        "    return 1 / (1 + math.exp(-x))"
      ],
      "execution_count": 4,
      "outputs": []
    },
    {
      "cell_type": "markdown",
      "metadata": {
        "id": "F9VgnpHefan3"
      },
      "source": [
        "# Perceptron"
      ]
    },
    {
      "cell_type": "code",
      "metadata": {
        "id": "cYSpXL8R120w"
      },
      "source": [
        "class Perceptron_Unit:\n",
        "    def __init__(self, learning_rate, activation_f, max_iterations, weights):\n",
        "        self.weights = [0] * weights\n",
        "        self.activation_f = activation_f\n",
        "        self.learning_rate = learning_rate\n",
        "        self.max_iterations = max_iterations\n",
        "\n",
        "    def update_weights(self, x, y_hat, y):\n",
        "        for i in range(len(self.weights)):\n",
        "            self.weights[i] += self.learning_rate * (y - y_hat) * x[i]\n",
        "\n",
        "    def update(self, x,y):\n",
        "        pred = self.activation_f(np.dot(self.weights, x))\n",
        "        if pred != y:\n",
        "          self.update_weights(x, pred, y)\n",
        "\n",
        "    def predict(self, x):\n",
        "        prediction = self.activation_f(np.dot(self.weights, x))\n",
        "        return prediction\n",
        "    \n",
        "    def get_weights(self):\n",
        "      return self.weights"
      ],
      "execution_count": 5,
      "outputs": []
    },
    {
      "cell_type": "code",
      "metadata": {
        "id": "kMM2RZn06yXr"
      },
      "source": [
        "class Perceptron:\n",
        "    def __init__(self, learning_rate, activation_f, max_iterations):\n",
        "        self.perceptrons = {}\n",
        "        self.activation_f = activation_f\n",
        "        self.learning_rate = learning_rate\n",
        "        self.max_iterations = max_iterations\n",
        "\n",
        "    def train(self, X, Y):\n",
        "        # Get the number of weights needed.\n",
        "        num_weights = 1 + len(X[0])\n",
        "\n",
        "        # Create perceptron for each label.\n",
        "        labels = np.unique(Y)\n",
        "        if len(labels) < 3:\n",
        "          self.perceptrons[labels[0]] = Perceptron_Unit(self.learning_rate, self.activation_f, self.max_iterations, num_weights)\n",
        "        else:\n",
        "          for label in labels:\n",
        "            self.perceptrons[label] = Perceptron_Unit(self.learning_rate, self.activation_f, self.max_iterations, num_weights)\n",
        "\n",
        "        epoch = 0\n",
        "        train = True\n",
        "        while train and epoch < self.max_iterations:\n",
        "          epoch += 1\n",
        "          train = False\n",
        "          for i in range(len(X)):\n",
        "            # Add bias term\n",
        "            instance = np.insert(X[i], 0, 1)\n",
        "\n",
        "            prediction = (-math.inf, None)\n",
        "\n",
        "            # Get max probability label.\n",
        "            for label in self.perceptrons: \n",
        "              prob = self.perceptrons[label].predict(instance)\n",
        "              if Y[i] == label:\n",
        "                  if prob > prediction[0]:\n",
        "                    prediction = (prob, label)\n",
        "              else:\n",
        "                if prob > prediction[0]:\n",
        "                  prediction = (prob, label)\n",
        "      \n",
        "            # Check if prediction was correct. If not, update.\n",
        "            if prediction[1] != Y[i]:\n",
        "              train = True\n",
        "              for label in self.perceptrons:\n",
        "                if Y[i] == label:\n",
        "                  self.perceptrons[label].update(instance, 1)\n",
        "                else:\n",
        "                  self.perceptrons[label].update(instance, 0)\n",
        "\n",
        "    def predict(self, X):\n",
        "        predictions = []\n",
        "\n",
        "        for i in range(len(X)):\n",
        "          # Add bias term\n",
        "          instance = np.insert(X[i], 0, 1)\n",
        "\n",
        "          prediction = (-math.inf, None)\n",
        "\n",
        "          # Get max probability label.\n",
        "          for label in self.perceptrons: \n",
        "            prob = self.perceptrons[label].predict(instance)\n",
        "            if prob > prediction[0]:\n",
        "              prediction = (prob, label)\n",
        "\n",
        "          predictions.append(prediction[1])\n",
        "        \n",
        "        return predictions\n",
        "\n",
        "    def predict_score(self, X,Y):\n",
        "        predictions = self.predict(X)\n",
        "        accuracy = self.get_acuracy(predictions,Y)\n",
        "        print(\"Accuracy =\", accuracy)\n",
        "\n",
        "    def get_acuracy(self, preds,y):\n",
        "        no_correct = 0\n",
        "        for i in range(len(preds)):\n",
        "          if preds[i] == y[i]:\n",
        "            no_correct += 1\n",
        "        accuracy = no_correct / len(preds)\n",
        "        return accuracy\n",
        "\n",
        "    def get_weights(self,):\n",
        "        weights = {}\n",
        "        for unit in self.perceptrons:\n",
        "          weights[unit] = self.perceptrons[unit].get_weights()\n",
        "        return weights"
      ],
      "execution_count": 6,
      "outputs": []
    },
    {
      "cell_type": "markdown",
      "metadata": {
        "id": "vF_j8j4uesjz"
      },
      "source": [
        "# Experiementation with Iris Data Set"
      ]
    },
    {
      "cell_type": "markdown",
      "metadata": {
        "id": "71kh_modteJm"
      },
      "source": [
        "# Useful Code"
      ]
    },
    {
      "cell_type": "code",
      "metadata": {
        "id": "rgp8at6NtgXd"
      },
      "source": [
        "def show_confusion(pred, y_test):\n",
        "    cm=metrics.confusion_matrix(y_test,pred)\n",
        "    print(cm)\n",
        "    plt.imshow(cm, cmap='binary')"
      ],
      "execution_count": 7,
      "outputs": []
    },
    {
      "cell_type": "markdown",
      "metadata": {
        "id": "Ixp75ppkw_xi"
      },
      "source": [
        "## Load Data"
      ]
    },
    {
      "cell_type": "code",
      "metadata": {
        "id": "RZxBJk8bex2j"
      },
      "source": [
        "iris = datasets.load_iris()"
      ],
      "execution_count": 8,
      "outputs": []
    },
    {
      "cell_type": "code",
      "metadata": {
        "id": "GIwZqvRWfmel"
      },
      "source": [
        "x_data = iris['data']\n",
        "y_data = iris['target']"
      ],
      "execution_count": 9,
      "outputs": []
    },
    {
      "cell_type": "code",
      "metadata": {
        "colab": {
          "base_uri": "https://localhost:8080/"
        },
        "id": "hDWf2WMUypGo",
        "outputId": "1c8f32da-a1b1-4a93-a96f-ec94948f3acc"
      },
      "source": [
        "x_data.shape"
      ],
      "execution_count": 10,
      "outputs": [
        {
          "output_type": "execute_result",
          "data": {
            "text/plain": [
              "(150, 4)"
            ]
          },
          "metadata": {},
          "execution_count": 10
        }
      ]
    },
    {
      "cell_type": "code",
      "metadata": {
        "id": "tgSS1QQSf8iK"
      },
      "source": [
        "X_train, X_test, y_train, y_test = train_test_split(x_data, y_data, test_size=0.33)"
      ],
      "execution_count": 46,
      "outputs": []
    },
    {
      "cell_type": "markdown",
      "metadata": {
        "id": "jGGVIB2y0Hzt"
      },
      "source": [
        "# Compare with Sklearn Percetron"
      ]
    },
    {
      "cell_type": "markdown",
      "metadata": {
        "id": "Alse-zMijjFU"
      },
      "source": [
        "## SKLearn"
      ]
    },
    {
      "cell_type": "code",
      "metadata": {
        "colab": {
          "base_uri": "https://localhost:8080/"
        },
        "id": "RDOL16us0Uy9",
        "outputId": "9f7544c0-13e2-4268-ac0b-7e0e3882b1c7"
      },
      "source": [
        "sk_model = sklearn_Perceptron()\n",
        "sk_model.fit(X_train, y_train)\n",
        "sk_model.score(X_test, y_test)"
      ],
      "execution_count": 47,
      "outputs": [
        {
          "output_type": "execute_result",
          "data": {
            "text/plain": [
              "0.7"
            ]
          },
          "metadata": {},
          "execution_count": 47
        }
      ]
    },
    {
      "cell_type": "markdown",
      "metadata": {
        "id": "6vtpSOd3jl_z"
      },
      "source": [
        "## My Model"
      ]
    },
    {
      "cell_type": "code",
      "metadata": {
        "colab": {
          "base_uri": "https://localhost:8080/"
        },
        "id": "raj8Wv4gl_wg",
        "outputId": "8c75574b-1bc8-4fa1-d3b9-60982ba0529c"
      },
      "source": [
        "next_model = Perceptron(.1, step_function, 100)\n",
        "next_model.train(X_train, y_train)\n",
        "next_model.predict_score(X_test, y_test)"
      ],
      "execution_count": 48,
      "outputs": [
        {
          "output_type": "stream",
          "text": [
            "Accuracy = 0.8\n"
          ],
          "name": "stdout"
        }
      ]
    }
  ]
}